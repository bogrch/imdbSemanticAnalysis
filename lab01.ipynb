{
 "cells": [
  {
   "cell_type": "markdown",
   "metadata": {
    "id": "Lv1nORvnYVQn"
   },
   "source": [
    "## Визначення тональності тексту відгуків на фільми IMDB за допомогою рекурентної нейронної мережі\n",
    "\n"
   ]
  },
  {
   "cell_type": "code",
   "execution_count": 11,
   "metadata": {
    "id": "lpsyhVlJX5XH"
   },
   "outputs": [],
   "source": [
    "\n",
    "from tensorflow.keras.datasets import imdb\n",
    "from tensorflow.keras.models import Sequential\n",
    "from tensorflow.keras.layers import Dense, Embedding, SimpleRNN \n",
    "from tensorflow.keras import utils\n",
    "from tensorflow.keras.preprocessing.sequence import pad_sequences\n",
    "import numpy as np\n",
    "import matplotlib.pyplot as plt\n",
    "%matplotlib inline "
   ]
  },
  {
   "cell_type": "markdown",
   "metadata": {
    "id": "xGDJkdINNWVh"
   },
   "source": [
    "## Загружаю дані"
   ]
  },
  {
   "cell_type": "code",
   "execution_count": 12,
   "metadata": {
    "id": "kBUUyZ4cbxoM"
   },
   "outputs": [],
   "source": [
    "max_words=10000"
   ]
  },
  {
   "cell_type": "code",
   "execution_count": 13,
   "metadata": {
    "colab": {
     "base_uri": "https://localhost:8080/"
    },
    "id": "toRj2Xs1NZgB",
    "outputId": "94b8b1ba-2f0c-4e08-d8b3-2c5f5b55c4fe"
   },
   "outputs": [],
   "source": [
    "(x_train, y_train), (x_test, y_test) = imdb.load_data(num_words=max_words)"
   ]
  },
  {
   "cell_type": "markdown",
   "metadata": {
    "id": "kiA7X0oWaS9Z"
   },
   "source": [
    "## Проводжу підготовку даних до навчання"
   ]
  },
  {
   "cell_type": "code",
   "execution_count": 14,
   "metadata": {
    "id": "PiZZxRZhMVWv"
   },
   "outputs": [],
   "source": [
    "maxlen = 200"
   ]
  },
  {
   "cell_type": "code",
   "execution_count": 15,
   "metadata": {
    "id": "0YrjnapvMVwf"
   },
   "outputs": [],
   "source": [
    "x_train = pad_sequences(x_train, maxlen=maxlen)\n",
    "x_test = pad_sequences(x_test, maxlen=maxlen)"
   ]
  },
  {
   "cell_type": "code",
   "execution_count": 16,
   "metadata": {
    "colab": {
     "base_uri": "https://localhost:8080/"
    },
    "id": "SnANlxwYMcNX",
    "outputId": "7b4d7897-1248-4796-e1fb-ba5a98bbaccd"
   },
   "outputs": [
    {
     "data": {
      "text/plain": [
       "array([   0,    0,    0,    0,    0,    0,    0,    0,    0,    0,    0,\n",
       "          0,    0,    0,    0,    0,    0,    0,    0,    0,    0,    0,\n",
       "          0,    0,    0,    0,    0,    0,    0,    0,    0,    0,    0,\n",
       "          0,    0,    0,    0,    0,    0,    0,    0,    0,    0,    0,\n",
       "          0,    0,    0,    0,    0,    0,    0,    0,    0,    0,    0,\n",
       "          0,    0,    0,    0,    0,    0,    0,    0,    0,    0,    0,\n",
       "          0,    0,    0,    1,  103,   51,   13,  197,   16,    6, 4796,\n",
       "        239,    7,  107,  555,   11,  132,   39, 8921, 1872,  138,   16,\n",
       "       4093, 1768, 2959,   34, 1620,    2,   11,    4,  755,   12,   43,\n",
       "        286,    4,  172,  209,    2,    5, 5938,   17, 1000,   34, 1768,\n",
       "        279,   29, 3892,   89,  338,    4,  114,   16, 1240, 1747,  103,\n",
       "       3844, 3819,    8,  169, 2875,  112, 7062,   34,  160,  132,   29,\n",
       "        100,   24,  535,  101,  250,    8,  858,   15,  196,   19,   57,\n",
       "       3154,   39,   90,    5,   24,  169, 3533,   18,    6,  910,   20,\n",
       "         14, 1367, 3939, 1101,  935,    4,  545, 1744,  173,   54, 1240,\n",
       "       2875,    2,   56,  209,  112, 1021,   55,  835,  179,   35, 2384,\n",
       "          8,  529, 1663, 1793,    8, 1066,    7,   61,  223,  637, 1231,\n",
       "         19,    4,   86,   31,    5,  353,    8,  859,   13,  126,  219,\n",
       "          4,  755])"
      ]
     },
     "execution_count": 16,
     "metadata": {},
     "output_type": "execute_result"
    }
   ],
   "source": [
    "x_train[5002]"
   ]
  },
  {
   "cell_type": "markdown",
   "metadata": {
    "id": "rhSLT9WjTeMk"
   },
   "source": [
    "## Створення нейронної мережі"
   ]
  },
  {
   "cell_type": "code",
   "execution_count": 17,
   "metadata": {
    "id": "Lrzx1e4xTgzL"
   },
   "outputs": [],
   "source": [
    "model = Sequential()\n",
    "model.add(Embedding(max_words, 2, input_length=maxlen))\n",
    "model.add(SimpleRNN(8))\n",
    "model.add(Dense(1, activation='sigmoid'))"
   ]
  },
  {
   "cell_type": "code",
   "execution_count": 18,
   "metadata": {
    "id": "u1yNam-uSunE"
   },
   "outputs": [],
   "source": [
    "model.compile(optimizer='rmsprop', \n",
    "              loss='binary_crossentropy', \n",
    "              metrics=['accuracy'])"
   ]
  },
  {
   "cell_type": "markdown",
   "metadata": {
    "id": "9CHZwMttYMTb"
   },
   "source": [
    "## Проводжу навчання нейронної мережі\n"
   ]
  },
  {
   "cell_type": "code",
   "execution_count": 19,
   "metadata": {
    "colab": {
     "base_uri": "https://localhost:8080/"
    },
    "id": "AkmNH7ahYLyc",
    "outputId": "a2db914c-bfcd-494c-fd13-fb8f036611ca"
   },
   "outputs": [
    {
     "name": "stdout",
     "output_type": "stream",
     "text": [
      "Epoch 1/15\n",
      "176/176 [==============================] - 5s 22ms/step - loss: 0.6613 - accuracy: 0.6162 - val_loss: 0.6218 - val_accuracy: 0.6680\n",
      "Epoch 2/15\n",
      "176/176 [==============================] - 4s 21ms/step - loss: 0.5502 - accuracy: 0.7762 - val_loss: 0.4886 - val_accuracy: 0.8200\n",
      "Epoch 3/15\n",
      "176/176 [==============================] - 4s 21ms/step - loss: 0.4443 - accuracy: 0.8393 - val_loss: 0.4040 - val_accuracy: 0.8512\n",
      "Epoch 4/15\n",
      "176/176 [==============================] - 4s 21ms/step - loss: 0.3637 - accuracy: 0.8695 - val_loss: 0.3793 - val_accuracy: 0.8472\n",
      "Epoch 5/15\n",
      "176/176 [==============================] - 4s 21ms/step - loss: 0.3098 - accuracy: 0.8878 - val_loss: 0.3460 - val_accuracy: 0.8596\n",
      "Epoch 6/15\n",
      "176/176 [==============================] - 4s 21ms/step - loss: 0.2685 - accuracy: 0.8996 - val_loss: 0.3363 - val_accuracy: 0.8680\n",
      "Epoch 7/15\n",
      "176/176 [==============================] - 4s 24ms/step - loss: 0.2435 - accuracy: 0.9096 - val_loss: 0.3554 - val_accuracy: 0.8464\n",
      "Epoch 8/15\n",
      "176/176 [==============================] - 4s 22ms/step - loss: 0.2239 - accuracy: 0.9182 - val_loss: 0.3167 - val_accuracy: 0.8756\n",
      "Epoch 9/15\n",
      "176/176 [==============================] - 4s 21ms/step - loss: 0.2075 - accuracy: 0.9233 - val_loss: 0.3183 - val_accuracy: 0.8736\n",
      "Epoch 10/15\n",
      "176/176 [==============================] - 4s 21ms/step - loss: 0.1892 - accuracy: 0.9326 - val_loss: 0.3607 - val_accuracy: 0.8648\n",
      "Epoch 11/15\n",
      "176/176 [==============================] - 4s 21ms/step - loss: 0.1788 - accuracy: 0.9356 - val_loss: 0.3477 - val_accuracy: 0.8744\n",
      "Epoch 12/15\n",
      "176/176 [==============================] - 4s 21ms/step - loss: 0.1696 - accuracy: 0.9385 - val_loss: 0.3746 - val_accuracy: 0.8720\n",
      "Epoch 13/15\n",
      "176/176 [==============================] - 4s 21ms/step - loss: 0.1606 - accuracy: 0.9435 - val_loss: 0.3319 - val_accuracy: 0.8712\n",
      "Epoch 14/15\n",
      "176/176 [==============================] - 4s 21ms/step - loss: 0.1479 - accuracy: 0.9496 - val_loss: 0.3668 - val_accuracy: 0.8704\n",
      "Epoch 15/15\n",
      "176/176 [==============================] - 4s 21ms/step - loss: 0.1414 - accuracy: 0.9518 - val_loss: 0.3440 - val_accuracy: 0.8672\n"
     ]
    }
   ],
   "source": [
    "history = model.fit(x_train, \n",
    "                    y_train, \n",
    "                    epochs=15,\n",
    "                    batch_size=128,\n",
    "                    validation_split=0.1)"
   ]
  },
  {
   "cell_type": "markdown",
   "metadata": {
    "id": "HnnIy3JlEGqW"
   },
   "source": [
    "## Перевіряю роботу нейронної мережі на тестових даних"
   ]
  },
  {
   "cell_type": "code",
   "execution_count": 20,
   "metadata": {
    "colab": {
     "base_uri": "https://localhost:8080/"
    },
    "id": "J1_ilV14EKBO",
    "outputId": "31b8520c-3862-4e79-e6a3-c9c962a8338f"
   },
   "outputs": [
    {
     "name": "stdout",
     "output_type": "stream",
     "text": [
      "782/782 [==============================] - 4s 5ms/step - loss: 0.3599 - accuracy: 0.8603\n"
     ]
    }
   ],
   "source": [
    "scores = model.evaluate(x_test, y_test, verbose=1)"
   ]
  },
  {
   "cell_type": "markdown",
   "metadata": {
    "id": "O5Lfr6PlbChk"
   },
   "source": []
  }
 ],
 "metadata": {
  "accelerator": "GPU",
  "colab": {
   "name": "dl_nlp_imdb_simple_rnn.ipynb",
   "provenance": []
  },
  "kernelspec": {
   "display_name": "Python 3 (ipykernel)",
   "language": "python",
   "name": "python3"
  },
  "language_info": {
   "codemirror_mode": {
    "name": "ipython",
    "version": 3
   },
   "file_extension": ".py",
   "mimetype": "text/x-python",
   "name": "python",
   "nbconvert_exporter": "python",
   "pygments_lexer": "ipython3",
   "version": "3.8.0"
  }
 },
 "nbformat": 4,
 "nbformat_minor": 1
}
